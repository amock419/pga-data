{
 "cells": [
  {
   "cell_type": "code",
   "execution_count": 1,
   "metadata": {},
   "outputs": [
    {
     "ename": "ModuleNotFoundError",
     "evalue": "No module named 'numpy'",
     "output_type": "error",
     "traceback": [
      "\u001b[0;31m---------------------------------------------------------------------------\u001b[0m",
      "\u001b[0;31mModuleNotFoundError\u001b[0m                       Traceback (most recent call last)",
      "\u001b[0;32m<ipython-input-1-cb2707e97f3c>\u001b[0m in \u001b[0;36m<module>\u001b[0;34m()\u001b[0m\n\u001b[0;32m----> 1\u001b[0;31m \u001b[0;32mimport\u001b[0m \u001b[0mnumpy\u001b[0m \u001b[0;32mas\u001b[0m \u001b[0mnp\u001b[0m\u001b[0;34m\u001b[0m\u001b[0m\n\u001b[0m\u001b[1;32m      2\u001b[0m \u001b[0;32mimport\u001b[0m \u001b[0mpandas\u001b[0m \u001b[0;32mas\u001b[0m \u001b[0mpd\u001b[0m\u001b[0;34m\u001b[0m\u001b[0m\n\u001b[1;32m      3\u001b[0m \u001b[0;32mimport\u001b[0m \u001b[0mjson\u001b[0m\u001b[0;34m\u001b[0m\u001b[0m\n\u001b[1;32m      4\u001b[0m \u001b[0;32mimport\u001b[0m \u001b[0mrequests\u001b[0m\u001b[0;34m\u001b[0m\u001b[0m\n",
      "\u001b[0;31mModuleNotFoundError\u001b[0m: No module named 'numpy'"
     ]
    }
   ],
   "source": [
    "import numpy as np\n",
    "import pandas as pd\n",
    "import json\n",
    "import requests"
   ]
  },
  {
   "cell_type": "markdown",
   "metadata": {},
   "source": [
    "Define function to pull round data from every player at a tournament from a given year.\n",
    "* Inputs:\n",
    " * **tourn_ID** = PGA's designated tournament number\n",
    " * **year** = year to grab data from\n",
    "* Output: Pandas DataFrame with round data for every player at the tournament"
   ]
  },
  {
   "cell_type": "code",
   "execution_count": null,
   "metadata": {},
   "outputs": [],
   "source": [
    "def tourney(course_ID, year):\n",
    "    '''\n",
    "    Pull scores from all players of a tournament\n",
    "    course_ID = course number as designated by PGA\n",
    "    year = year of tournament to grab data from\n",
    "    '''\n",
    "    tourn = requests.get('http://www.pgatour.com/data/R/{}/{}/tournsum.json'.format(course_ID, year)).json() # load JSON for tournament and year specified\n",
    "    data = tourn['years'][0]['tours'][0]['trns'][0] # ignore extraneous metadata for now, get straight to the meat\n",
    "    out = {'RoundNum':[], 'CourseID':[], 'RoundPos':[], 'RoundScore':[], 'PlayerID':[], 'Year':[], 'PlayerName':[]} # initialize dictionary for dumping info into\n",
    "    \n",
    "    for player in data['plrs']:\n",
    "        # save some stuff for later\n",
    "        playername = player['name']['first'] + ' ' + player['name']['last']\n",
    "        playerID = player['plrNum']\n",
    "        \n",
    "        for rnd in player['rnds']:\n",
    "            out['Year'].append(year)\n",
    "            out['PlayerName'].append(playername)\n",
    "            out['PlayerID'].append(playerID)\n",
    "            out['RoundNum'].append(rnd['rndNum'])\n",
    "            out['CourseID'].append(rnd['courseNum'])\n",
    "            out['RoundPos'].append(rnd['rndPos'])\n",
    "            out['RoundScore'].append(rnd['rndScr'])\n",
    "            \n",
    "    return pd.DataFrame(out)"
   ]
  },
  {
   "cell_type": "markdown",
   "metadata": {},
   "source": [
    "Define function to pull round data from a designated player at all tournaments from a given year.\n",
    "* Inputs:\n",
    " * **PlayerName** = first and last name of player as a string\n",
    " * **year** = year to grab data from\n",
    "* Output: Pandas DataFrame with round data for chosen player at all tournaments from given year"
   ]
  },
  {
   "cell_type": "code",
   "execution_count": null,
   "metadata": {},
   "outputs": [],
   "source": [
    "def player(PlayerName, year):\n",
    "    '''\n",
    "    Pull scores from all tournaments for a single player\n",
    "    PlayerName = first and last name of player\n",
    "    year = year of to grab data from\n",
    "    '''\n",
    "    out = {'RoundNum':[], 'CourseID':[], 'RoundPos':[], 'RoundScore':[], 'PlayerID':[], 'Year':[], 'PlayerName':[]} # initialize dictionary for dumping info into\n",
    "    \n",
    "    for CourseID in course_info(year)['CourseID']: # get course IDs for all tournaments in given year\n",
    "        tourn = requests.get('http://www.pgatour.com/data/R/{}/{}/tournsum.json'.format(CourseID, year)).json() # load JSON for course and year specified\n",
    "        data = tourn['years'][0]['tours'][0]['trns'][0]['plrs'] # ignore extraneous metadata for now, get straight to the meat\n",
    "        \n",
    "        for rnd in data if data['name']['first'] + ' ' + data['name']['last'] == PlayerName:\n",
    "            out['Year'].append(year)\n",
    "            out['PlayerName'].append(PlayerName)\n",
    "            out['PlayerID'].append(data['plrNum'])\n",
    "            out['RoundNum'].append(rnd['rndNum'])\n",
    "            out['CourseID'].append(rnd['courseNum'])\n",
    "            out['RoundPos'].append(rnd['rndPos'])\n",
    "            out['RoundScore'].append(rnd['rndScr'])\n",
    "            \n",
    "    return pd.DataFrame(out)"
   ]
  },
  {
   "cell_type": "markdown",
   "metadata": {},
   "source": [
    "See if I can get tournament numbers from PGA website"
   ]
  },
  {
   "cell_type": "code",
   "execution_count": null,
   "metadata": {},
   "outputs": [],
   "source": [
    "def course_info(year):\n",
    "    '''\n",
    "    Pull course information into DataFrame\n",
    "    year = year to grab data from\n",
    "    '''\n",
    "    out = {'CourseName':[], 'CourseID':[], 'TournName':[]} # initialize dictionary for dumping info into\n",
    "    \n",
    "    # check all possible course numbers, given that they are 3-digit numbers\n",
    "    for course in ['%03d' % (x,) for x in range(101)]:\n",
    "        try:\n",
    "            tourn = requests.get('http://www.pgatour.com/data/R/{}/{}/tournsum.json'.format(course, year)).json() # load JSON for course and year specified\n",
    "            data = tourn['years'][0]['tours'][0]['trns'][0] # ignore extraneous metadata for now, get straight to the meat\n",
    "            out['CourseName'].append(data['courses'][0]['courseName'])\n",
    "            out['CourseID'].append(data['courses'][0]['courseNum'])\n",
    "            out['TournName'].append(data['fullName'])\n",
    "            print('loading data from course #' + course)\n",
    "            \n",
    "        except:\n",
    "            print(course + ' is not a valid course ID')\n",
    "        \n",
    "    return pd.DataFrame(out)"
   ]
  },
  {
   "cell_type": "code",
   "execution_count": null,
   "metadata": {},
   "outputs": [],
   "source": [
    "courses_2017 = course_info('2017')"
   ]
  },
  {
   "cell_type": "code",
   "execution_count": null,
   "metadata": {},
   "outputs": [],
   "source": [
    "for course in courses_2017['CourseID']:\n",
    "    print(course)"
   ]
  },
  {
   "cell_type": "markdown",
   "metadata": {},
   "source": [
    "The following will be the big function that loops through years for a given tournament"
   ]
  },
  {
   "cell_type": "code",
   "execution_count": null,
   "metadata": {},
   "outputs": [],
   "source": [
    "years = [x for x in range(1997, 2018)] # define years to grab data from"
   ]
  },
  {
   "cell_type": "code",
   "execution_count": null,
   "metadata": {},
   "outputs": [],
   "source": [
    "for year in years:\n",
    "    # get link to JSON data page from PGA website\n",
    "    json = 'http://www.pgatour.com/data/R/014/{}/tournsum.json'.format(year)\n",
    "    temp = pd.DataFrame(columns = ['RoundNum','CourseID','RoundPos','RoundScore','RelParScore','CumParScore','PlayerID','Year','PlayerName'])\n",
    "    data = "
   ]
  },
  {
   "cell_type": "code",
   "execution_count": null,
   "metadata": {},
   "outputs": [],
   "source": []
  }
 ],
 "metadata": {
  "kernelspec": {
   "display_name": "Python 3",
   "language": "python",
   "name": "python3"
  },
  "language_info": {
   "codemirror_mode": {
    "name": "ipython",
    "version": 3
   },
   "file_extension": ".py",
   "mimetype": "text/x-python",
   "name": "python",
   "nbconvert_exporter": "python",
   "pygments_lexer": "ipython3",
   "version": "3.6.5"
  }
 },
 "nbformat": 4,
 "nbformat_minor": 2
}
