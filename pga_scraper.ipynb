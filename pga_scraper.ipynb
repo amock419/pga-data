{
 "cells": [
  {
   "cell_type": "code",
   "execution_count": 1,
   "metadata": {},
   "outputs": [],
   "source": [
    "import numpy as np\n",
    "import pandas as pd\n",
    "import json\n",
    "import requests"
   ]
  },
  {
   "cell_type": "markdown",
   "metadata": {},
   "source": [
    "Define function to pull round data from every player at a tournament from a given year.\n",
    "* Inputs:\n",
    " * **tourn_ID** = PGA's designated tournament number\n",
    " * **year** = year to grab data from\n",
    "* Output: Pandas DataFrame with round data for every player at the tournament"
   ]
  },
  {
   "cell_type": "code",
   "execution_count": 16,
   "metadata": {},
   "outputs": [],
   "source": [
    "def tourney(course_ID, year):\n",
    "    '''\n",
    "    Pull scores from all players of a tournament\n",
    "    course_ID = course number as designated by PGA\n",
    "    year = year of tournament to grab data from\n",
    "    '''\n",
    "    tourn = requests.get('http://www.pgatour.com/data/R/{}/{}/tournsum.json'.format(course_ID, year)).json() # load JSON for tournament and year specified\n",
    "    data = tourn['years'][0]['tours'][0]['trns'][0] # ignore extraneous metadata for now, get straight to the meat\n",
    "    out = {'RoundNum':[], 'CourseID':[], 'RoundPos':[], 'RoundScore':[], 'PlayerID':[], 'Year':[], 'PlayerName':[]} # initialize dictionary for dumping info into\n",
    "    \n",
    "    for player in data['plrs']:\n",
    "        # save some stuff for later\n",
    "        playername = player['name']['first'] + ' ' + player['name']['last']\n",
    "        playerID = player['plrNum']\n",
    "        \n",
    "        for rnd in player['rnds']:\n",
    "            out['Year'].append(year)\n",
    "            out['PlayerName'].append(playername)\n",
    "            out['PlayerID'].append(playerID)\n",
    "            out['RoundNum'].append(rnd['rndNum'])\n",
    "            out['CourseID'].append(rnd['courseNum'])\n",
    "            out['RoundPos'].append(rnd['rndPos'])\n",
    "            out['RoundScore'].append(rnd['rndScr'])\n",
    "            \n",
    "    return pd.DataFrame(out)"
   ]
  },
  {
   "cell_type": "markdown",
   "metadata": {},
   "source": [
    "Define function to pull round data from a designated player at all tournaments from a given year.\n",
    "* Inputs:\n",
    " * **PlayerName** = first and last name of player as a string\n",
    " * **year** = year to grab data from\n",
    "* Output: Pandas DataFrame with round data for chosen player at all tournaments from given year"
   ]
  },
  {
   "cell_type": "code",
   "execution_count": 16,
   "metadata": {},
   "outputs": [],
   "source": [
    "def player(PlayerName, year):\n",
    "    '''\n",
    "    Pull scores from all tournaments for a single player\n",
    "    PlayerName = first and last name of player\n",
    "    year = year of to grab data from\n",
    "    '''\n",
    "    out = {'RoundNum':[], 'CourseID':[], 'RoundPos':[], 'RoundScore':[], 'PlayerID':[], 'Year':[], 'PlayerName':[]} # initialize dictionary for dumping info into\n",
    "    \n",
    "    for CourseID in course_info(year)['CourseID']: # get course IDs for all tournaments in given year\n",
    "        tourn = requests.get('http://www.pgatour.com/data/R/{}/{}/tournsum.json'.format(CourseID, year)).json() # load JSON for course and year specified\n",
    "        data = tourn['years'][0]['tours'][0]['trns'][0]['plrs'] # ignore extraneous metadata for now, get straight to the meat\n",
    "        \n",
    "        for rnd in data if data['name']['first'] + ' ' + data['name']['last'] == PlayerName:\n",
    "            out['Year'].append(year)\n",
    "            out['PlayerName'].append(PlayerName)\n",
    "            out['PlayerID'].append(data['plrNum'])\n",
    "            out['RoundNum'].append(rnd['rndNum'])\n",
    "            out['CourseID'].append(rnd['courseNum'])\n",
    "            out['RoundPos'].append(rnd['rndPos'])\n",
    "            out['RoundScore'].append(rnd['rndScr'])\n",
    "            \n",
    "    return pd.DataFrame(out)"
   ]
  },
  {
   "cell_type": "markdown",
   "metadata": {},
   "source": [
    "See if I can get tournament numbers from PGA website"
   ]
  },
  {
   "cell_type": "code",
   "execution_count": 46,
   "metadata": {},
   "outputs": [],
   "source": [
    "def course_info(year):\n",
    "    '''\n",
    "    Pull course information into DataFrame\n",
    "    year = year to grab data from\n",
    "    '''\n",
    "    out = {'CourseName':[], 'CourseID':[], 'TournName':[]} # initialize dictionary for dumping info into\n",
    "    \n",
    "    # check all possible course numbers, given that they are 3-digit numbers\n",
    "    for course in ['%03d' % (x,) for x in range(101)]:\n",
    "        try:\n",
    "            tourn = requests.get('http://www.pgatour.com/data/R/{}/{}/tournsum.json'.format(course, year)).json() # load JSON for course and year specified\n",
    "            data = tourn['years'][0]['tours'][0]['trns'][0] # ignore extraneous metadata for now, get straight to the meat\n",
    "            out['CourseName'].append(data['courses'][0]['courseName'])\n",
    "            out['CourseID'].append(data['courses'][0]['courseNum'])\n",
    "            out['TournName'].append(data['fullName'])\n",
    "            print('loading data from course #' + course)\n",
    "            \n",
    "        except:\n",
    "            print(course + ' is not a valid course ID')\n",
    "        \n",
    "    return pd.DataFrame(out)"
   ]
  },
  {
   "cell_type": "code",
   "execution_count": 47,
   "metadata": {},
   "outputs": [
    {
     "name": "stdout",
     "output_type": "stream",
     "text": [
      "000 is not a valid course ID\n",
      "001 is not a valid course ID\n",
      "loading data from course #002\n",
      "loading data from course #003\n",
      "loading data from course #004\n",
      "loading data from course #005\n",
      "loading data from course #006\n",
      "loading data from course #007\n",
      "008 is not a valid course ID\n",
      "loading data from course #009\n",
      "loading data from course #010\n",
      "loading data from course #011\n",
      "loading data from course #012\n",
      "loading data from course #013\n",
      "loading data from course #014\n",
      "015 is not a valid course ID\n",
      "loading data from course #016\n",
      "017 is not a valid course ID\n",
      "loading data from course #018\n",
      "loading data from course #019\n",
      "loading data from course #020\n",
      "loading data from course #021\n",
      "022 is not a valid course ID\n",
      "loading data from course #023\n",
      "024 is not a valid course ID\n",
      "loading data from course #025\n",
      "loading data from course #026\n",
      "loading data from course #027\n",
      "028 is not a valid course ID\n",
      "029 is not a valid course ID\n",
      "loading data from course #030\n",
      "031 is not a valid course ID\n",
      "loading data from course #032\n",
      "loading data from course #033\n",
      "loading data from course #034\n",
      "035 is not a valid course ID\n",
      "036 is not a valid course ID\n",
      "037 is not a valid course ID\n",
      "038 is not a valid course ID\n",
      "039 is not a valid course ID\n",
      "040 is not a valid course ID\n",
      "loading data from course #041\n",
      "042 is not a valid course ID\n",
      "043 is not a valid course ID\n",
      "044 is not a valid course ID\n",
      "045 is not a valid course ID\n",
      "046 is not a valid course ID\n",
      "loading data from course #047\n",
      "048 is not a valid course ID\n",
      "049 is not a valid course ID\n",
      "050 is not a valid course ID\n",
      "051 is not a valid course ID\n",
      "052 is not a valid course ID\n",
      "053 is not a valid course ID\n",
      "loading data from course #054\n",
      "055 is not a valid course ID\n",
      "056 is not a valid course ID\n",
      "057 is not a valid course ID\n",
      "loading data from course #058\n",
      "059 is not a valid course ID\n",
      "060 is not a valid course ID\n",
      "061 is not a valid course ID\n",
      "062 is not a valid course ID\n",
      "063 is not a valid course ID\n",
      "064 is not a valid course ID\n",
      "065 is not a valid course ID\n",
      "066 is not a valid course ID\n",
      "067 is not a valid course ID\n",
      "068 is not a valid course ID\n",
      "069 is not a valid course ID\n",
      "070 is not a valid course ID\n",
      "071 is not a valid course ID\n",
      "072 is not a valid course ID\n",
      "073 is not a valid course ID\n",
      "074 is not a valid course ID\n",
      "075 is not a valid course ID\n",
      "076 is not a valid course ID\n",
      "077 is not a valid course ID\n",
      "078 is not a valid course ID\n",
      "079 is not a valid course ID\n",
      "080 is not a valid course ID\n",
      "081 is not a valid course ID\n",
      "082 is not a valid course ID\n",
      "083 is not a valid course ID\n",
      "084 is not a valid course ID\n",
      "085 is not a valid course ID\n",
      "086 is not a valid course ID\n",
      "087 is not a valid course ID\n",
      "088 is not a valid course ID\n",
      "089 is not a valid course ID\n",
      "090 is not a valid course ID\n",
      "091 is not a valid course ID\n",
      "092 is not a valid course ID\n",
      "093 is not a valid course ID\n",
      "094 is not a valid course ID\n",
      "095 is not a valid course ID\n",
      "096 is not a valid course ID\n",
      "097 is not a valid course ID\n",
      "098 is not a valid course ID\n",
      "099 is not a valid course ID\n",
      "loading data from course #100\n"
     ]
    }
   ],
   "source": [
    "courses_2017 = course_info('2017')"
   ]
  },
  {
   "cell_type": "code",
   "execution_count": 57,
   "metadata": {},
   "outputs": [
    {
     "name": "stdout",
     "output_type": "stream",
     "text": [
      "704\n",
      "510\n",
      "004\n",
      "005\n",
      "006\n",
      "500\n",
      "009\n",
      "734\n",
      "011\n",
      "012\n",
      "752\n",
      "014\n",
      "656\n",
      "714\n",
      "019\n",
      "729\n",
      "021\n",
      "023\n",
      "513\n",
      "236\n",
      "238\n",
      "669\n",
      "032\n",
      "241\n",
      "503\n",
      "770\n",
      "538\n",
      "746\n",
      "678\n",
      "541\n"
     ]
    }
   ],
   "source": [
    "for course in courses_2017['CourseID']:\n",
    "    print(course)"
   ]
  },
  {
   "cell_type": "markdown",
   "metadata": {},
   "source": [
    "The following will be the big function that loops through years for a given tournament"
   ]
  },
  {
   "cell_type": "code",
   "execution_count": 55,
   "metadata": {},
   "outputs": [],
   "source": [
    "years = [x for x in range(1997, 2018)] # define years to grab data from"
   ]
  },
  {
   "cell_type": "code",
   "execution_count": null,
   "metadata": {},
   "outputs": [],
   "source": [
    "for year in years:\n",
    "    # get link to JSON data page from PGA website\n",
    "    json = 'http://www.pgatour.com/data/R/014/{}/tournsum.json'.format(year)\n",
    "    temp = pd.DataFrame(columns = ['RoundNum','CourseID','RoundPos','RoundScore','RelParScore','CumParScore','PlayerID','Year','PlayerName'])\n",
    "    data = "
   ]
  },
  {
   "cell_type": "code",
   "execution_count": null,
   "metadata": {},
   "outputs": [],
   "source": []
  }
 ],
 "metadata": {
  "kernelspec": {
   "display_name": "Python [Anaconda3]",
   "language": "python",
   "name": "Python [Anaconda3]"
  },
  "language_info": {
   "codemirror_mode": {
    "name": "ipython",
    "version": 3
   },
   "file_extension": ".py",
   "mimetype": "text/x-python",
   "name": "python",
   "nbconvert_exporter": "python",
   "pygments_lexer": "ipython3",
   "version": "3.5.2"
  }
 },
 "nbformat": 4,
 "nbformat_minor": 2
}
